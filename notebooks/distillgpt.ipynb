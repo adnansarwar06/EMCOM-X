{
 "cells": [
  {
   "cell_type": "code",
   "execution_count": null,
   "id": "2379b87b",
   "metadata": {
    "vscode": {
     "languageId": "plaintext"
    }
   },
   "outputs": [],
   "source": [
    "!pip install transformers peft datasets"
   ]
  },
  {
   "cell_type": "code",
   "execution_count": null,
   "id": "e22c3a72",
   "metadata": {
    "vscode": {
     "languageId": "plaintext"
    }
   },
   "outputs": [],
   "source": [
    "from google.colab import files\n",
    "files.upload()  "
   ]
  },
  {
   "cell_type": "code",
   "execution_count": null,
   "id": "92868362",
   "metadata": {
    "vscode": {
     "languageId": "plaintext"
    }
   },
   "outputs": [],
   "source": [
    "from datasets import Dataset\n",
    "\n",
    "lines = open(\"llm_train.txt\", encoding=\"utf-8\").read().splitlines()\n",
    "dataset = Dataset.from_dict({\"text\": lines})\n",
    "\n",
    "def split_input_target(example):\n",
    "    inp, tgt = example[\"text\"].split(\"\\t\")\n",
    "    return {\"input_text\": inp, \"labels\": tgt}\n",
    "\n",
    "dataset = dataset.map(split_input_target)\n"
   ]
  },
  {
   "cell_type": "code",
   "execution_count": null,
   "id": "f33c4866",
   "metadata": {
    "vscode": {
     "languageId": "plaintext"
    }
   },
   "outputs": [],
   "source": [
    "from transformers import AutoTokenizer\n",
    "\n",
    "BASE_MODEL = \"distilgpt2\"\n",
    "tokenizer = AutoTokenizer.from_pretrained(BASE_MODEL)\n",
    "tokenizer.pad_token = tokenizer.eos_token\n",
    "\n",
    "def tokenize(example):\n",
    "    full = example[\"input_text\"] + \" \" + example[\"labels\"]\n",
    "    out = tokenizer(full, truncation=True, padding=\"max_length\", max_length=128)\n",
    "    out[\"labels\"] = out[\"input_ids\"].copy()\n",
    "    return out\n",
    "\n",
    "tokenized_dataset = dataset.map(tokenize)\n"
   ]
  },
  {
   "cell_type": "code",
   "execution_count": null,
   "id": "94653f98",
   "metadata": {
    "vscode": {
     "languageId": "plaintext"
    }
   },
   "outputs": [],
   "source": [
    "from transformers import AutoModelForCausalLM\n",
    "from peft import LoraConfig, get_peft_model, TaskType\n",
    "\n",
    "model = AutoModelForCausalLM.from_pretrained(BASE_MODEL)\n",
    "lora_config = LoraConfig(\n",
    "    task_type=TaskType.CAUSAL_LM,\n",
    "    r=8,\n",
    "    lora_alpha=32,\n",
    "    lora_dropout=0.05,\n",
    "    target_modules=[\"c_attn\"]\n",
    ")\n",
    "model = get_peft_model(model, lora_config)\n"
   ]
  },
  {
   "cell_type": "code",
   "execution_count": null,
   "id": "15fbb52f",
   "metadata": {
    "vscode": {
     "languageId": "plaintext"
    }
   },
   "outputs": [],
   "source": [
    "from transformers import TrainingArguments, Trainer\n",
    "\n",
    "training_args = TrainingArguments(\n",
    "    per_device_train_batch_size=16,\n",
    "    num_train_epochs=3,\n",
    "    learning_rate=1e-4,\n",
    "    output_dir=\"llm_lora_out\",\n",
    "    save_strategy=\"epoch\",\n",
    "    report_to=\"none\",\n",
    "    logging_steps=50\n",
    ")\n",
    "\n",
    "trainer = Trainer(\n",
    "    model=model,\n",
    "    args=training_args,\n",
    "    train_dataset=tokenized_dataset,\n",
    "    tokenizer=tokenizer\n",
    ")\n",
    "\n",
    "trainer.train()"
   ]
  },
  {
   "cell_type": "code",
   "execution_count": null,
   "id": "a1132fbd",
   "metadata": {
    "vscode": {
     "languageId": "plaintext"
    }
   },
   "outputs": [],
   "source": [
    "model.save_pretrained(\"llm_lora_out/final_model\")\n",
    "tokenizer.save_pretrained(\"llm_lora_out/final_model\")\n",
    "import shutil\n",
    "from google.colab import files\n",
    "shutil.make_archive(\"llm_lora_model\", 'zip', \"llm_lora_out/final_model\")\n",
    "files.download(\"llm_lora_model.zip\")\n"
   ]
  }
 ],
 "metadata": {
  "language_info": {
   "name": "python"
  }
 },
 "nbformat": 4,
 "nbformat_minor": 5
}
